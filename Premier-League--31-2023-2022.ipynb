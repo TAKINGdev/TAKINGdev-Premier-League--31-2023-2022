{
 "cells": [
  {
   "cell_type": "code",
   "execution_count": 1,
   "id": "68698757-7e0a-4a4d-8e56-2c2436b15fde",
   "metadata": {},
   "outputs": [],
   "source": [
    "import pandas as pd"
   ]
  },
  {
   "cell_type": "code",
   "execution_count": 2,
   "id": "4eecf8c6-1ced-41c6-912a-3a32cacedb01",
   "metadata": {},
   "outputs": [
    {
     "name": "stdout",
     "output_type": "stream",
     "text": [
      "<class 'pandas.core.frame.DataFrame'>\n",
      "RangeIndex: 20 entries, 0 to 19\n",
      "Data columns (total 11 columns):\n",
      " #   Column                       Non-Null Count  Dtype \n",
      "---  ------                       --------------  ----- \n",
      " 0   Pos                          20 non-null     int64 \n",
      " 1   Team                         20 non-null     object\n",
      " 2   Pld                          20 non-null     int64 \n",
      " 3   W                            20 non-null     int64 \n",
      " 4   D                            20 non-null     int64 \n",
      " 5   L                            20 non-null     int64 \n",
      " 6   GF                           20 non-null     int64 \n",
      " 7   GA                           20 non-null     int64 \n",
      " 8   GD                           20 non-null     object\n",
      " 9   Pts                          20 non-null     int64 \n",
      " 10  Qualification or relegation  11 non-null     object\n",
      "dtypes: int64(8), object(3)\n",
      "memory usage: 1.8+ KB\n"
     ]
    }
   ],
   "source": [
    "df = pd.read_csv('LeagueTable.csv')\n",
    "df.info()"
   ]
  },
  {
   "cell_type": "code",
   "execution_count": 15,
   "id": "606d02a4-26cc-4670-941a-c62f42b70b04",
   "metadata": {},
   "outputs": [],
   "source": [
    "df['GD'] = df['GD'].str.replace('−', '-', regex= False)\n",
    "df['GD'] = df['GD'].astype(int)"
   ]
  },
  {
   "cell_type": "code",
   "execution_count": 18,
   "id": "1e71a12a-a38f-4d55-a66c-c8c9c16e795f",
   "metadata": {},
   "outputs": [],
   "source": [
    "df[\"Qualification or relegation\"] = df[\"Qualification or relegation\"].fillna(\"No qualification\")"
   ]
  },
  {
   "cell_type": "code",
   "execution_count": 20,
   "id": "ecbed122-c22b-4a62-b03e-4b8f99be0ff6",
   "metadata": {},
   "outputs": [],
   "source": [
    "# Which teams have scored more than 60 goals but have less than 60 points?"
   ]
  },
  {
   "cell_type": "code",
   "execution_count": 21,
   "id": "315a88fa-07e1-4e55-9bf5-6087d46ff54f",
   "metadata": {},
   "outputs": [
    {
     "data": {
      "text/html": [
       "<div>\n",
       "<style scoped>\n",
       "    .dataframe tbody tr th:only-of-type {\n",
       "        vertical-align: middle;\n",
       "    }\n",
       "\n",
       "    .dataframe tbody tr th {\n",
       "        vertical-align: top;\n",
       "    }\n",
       "\n",
       "    .dataframe thead th {\n",
       "        text-align: right;\n",
       "    }\n",
       "</style>\n",
       "<table border=\"1\" class=\"dataframe\">\n",
       "  <thead>\n",
       "    <tr style=\"text-align: right;\">\n",
       "      <th></th>\n",
       "      <th>Team</th>\n",
       "      <th>GF</th>\n",
       "      <th>Pts</th>\n",
       "    </tr>\n",
       "  </thead>\n",
       "  <tbody>\n",
       "    <tr>\n",
       "      <th>0</th>\n",
       "      <td>Manchester City (C)</td>\n",
       "      <td>94</td>\n",
       "      <td>89</td>\n",
       "    </tr>\n",
       "    <tr>\n",
       "      <th>1</th>\n",
       "      <td>Arsenal</td>\n",
       "      <td>88</td>\n",
       "      <td>84</td>\n",
       "    </tr>\n",
       "    <tr>\n",
       "      <th>3</th>\n",
       "      <td>Newcastle United</td>\n",
       "      <td>68</td>\n",
       "      <td>71</td>\n",
       "    </tr>\n",
       "    <tr>\n",
       "      <th>4</th>\n",
       "      <td>Liverpool</td>\n",
       "      <td>75</td>\n",
       "      <td>67</td>\n",
       "    </tr>\n",
       "    <tr>\n",
       "      <th>5</th>\n",
       "      <td>Brighton &amp; Hove Albion</td>\n",
       "      <td>72</td>\n",
       "      <td>62</td>\n",
       "    </tr>\n",
       "  </tbody>\n",
       "</table>\n",
       "</div>"
      ],
      "text/plain": [
       "                     Team  GF  Pts\n",
       "0     Manchester City (C)  94   89\n",
       "1                 Arsenal  88   84\n",
       "3        Newcastle United  68   71\n",
       "4               Liverpool  75   67\n",
       "5  Brighton & Hove Albion  72   62"
      ]
     },
     "execution_count": 21,
     "metadata": {},
     "output_type": "execute_result"
    }
   ],
   "source": [
    "df[(df['GF'] > 60) & (df['Pts'] > 60)][['Team', 'GF', 'Pts']]"
   ]
  },
  {
   "cell_type": "code",
   "execution_count": 22,
   "id": "3b468f5e-7b9d-4f94-b9f5-c5c69837596d",
   "metadata": {},
   "outputs": [],
   "source": [
    "# Among the teams that did not qualify, which team has the best goal difference (GD)?"
   ]
  },
  {
   "cell_type": "code",
   "execution_count": 27,
   "id": "c8869b1a-55fb-40fb-ab02-6b4c1de12e1f",
   "metadata": {},
   "outputs": [
    {
     "data": {
      "text/html": [
       "<div>\n",
       "<style scoped>\n",
       "    .dataframe tbody tr th:only-of-type {\n",
       "        vertical-align: middle;\n",
       "    }\n",
       "\n",
       "    .dataframe tbody tr th {\n",
       "        vertical-align: top;\n",
       "    }\n",
       "\n",
       "    .dataframe thead th {\n",
       "        text-align: right;\n",
       "    }\n",
       "</style>\n",
       "<table border=\"1\" class=\"dataframe\">\n",
       "  <thead>\n",
       "    <tr style=\"text-align: right;\">\n",
       "      <th></th>\n",
       "      <th>Team</th>\n",
       "      <th>GD</th>\n",
       "    </tr>\n",
       "  </thead>\n",
       "  <tbody>\n",
       "    <tr>\n",
       "      <th>8</th>\n",
       "      <td>Brentford</td>\n",
       "      <td>12</td>\n",
       "    </tr>\n",
       "  </tbody>\n",
       "</table>\n",
       "</div>"
      ],
      "text/plain": [
       "        Team  GD\n",
       "8  Brentford  12"
      ]
     },
     "execution_count": 27,
     "metadata": {},
     "output_type": "execute_result"
    }
   ],
   "source": [
    "No_qualification = df[df['Qualification or relegation'] == 'No qualification']\n",
    "No_qualification.sort_values('GD', ascending= False).head(1)[['Team', 'GD']]"
   ]
  },
  {
   "cell_type": "code",
   "execution_count": 28,
   "id": "17039268-c977-456a-9185-1827b42e3bf6",
   "metadata": {},
   "outputs": [],
   "source": [
    "# Create a new column called Win/Loss Ratio,\n",
    "# which is the number of wins (W) divided by the number of losses (L).\n",
    "# Then sort the teams by this ratio and display the top 3 teams."
   ]
  },
  {
   "cell_type": "code",
   "execution_count": 29,
   "id": "dbf269ec-3e05-47aa-bd06-f8dbcfc293e3",
   "metadata": {},
   "outputs": [
    {
     "data": {
      "text/html": [
       "<div>\n",
       "<style scoped>\n",
       "    .dataframe tbody tr th:only-of-type {\n",
       "        vertical-align: middle;\n",
       "    }\n",
       "\n",
       "    .dataframe tbody tr th {\n",
       "        vertical-align: top;\n",
       "    }\n",
       "\n",
       "    .dataframe thead th {\n",
       "        text-align: right;\n",
       "    }\n",
       "</style>\n",
       "<table border=\"1\" class=\"dataframe\">\n",
       "  <thead>\n",
       "    <tr style=\"text-align: right;\">\n",
       "      <th></th>\n",
       "      <th>Team</th>\n",
       "      <th>W</th>\n",
       "      <th>L</th>\n",
       "      <th>Win/Loss Ratio</th>\n",
       "    </tr>\n",
       "  </thead>\n",
       "  <tbody>\n",
       "    <tr>\n",
       "      <th>0</th>\n",
       "      <td>Manchester City (C)</td>\n",
       "      <td>28</td>\n",
       "      <td>5</td>\n",
       "      <td>5.600000</td>\n",
       "    </tr>\n",
       "    <tr>\n",
       "      <th>1</th>\n",
       "      <td>Arsenal</td>\n",
       "      <td>26</td>\n",
       "      <td>6</td>\n",
       "      <td>4.333333</td>\n",
       "    </tr>\n",
       "    <tr>\n",
       "      <th>3</th>\n",
       "      <td>Newcastle United</td>\n",
       "      <td>19</td>\n",
       "      <td>5</td>\n",
       "      <td>3.800000</td>\n",
       "    </tr>\n",
       "  </tbody>\n",
       "</table>\n",
       "</div>"
      ],
      "text/plain": [
       "                  Team   W  L  Win/Loss Ratio\n",
       "0  Manchester City (C)  28  5        5.600000\n",
       "1              Arsenal  26  6        4.333333\n",
       "3     Newcastle United  19  5        3.800000"
      ]
     },
     "execution_count": 29,
     "metadata": {},
     "output_type": "execute_result"
    }
   ],
   "source": [
    "dfp = df.copy()\n",
    "dfp['Win/Loss Ratio'] = dfp['W'] / dfp['L']\n",
    "dfp = dfp.sort_values(by= 'Win/Loss Ratio', ascending= False)\n",
    "dfp.head(3)[['Team', 'W', 'L', 'Win/Loss Ratio']]"
   ]
  },
  {
   "cell_type": "code",
   "execution_count": 30,
   "id": "a7f5592a-e02b-4488-9207-32582a668d78",
   "metadata": {},
   "outputs": [],
   "source": [
    "# Which teams have the same number of draws (D) and wins (W)?"
   ]
  },
  {
   "cell_type": "code",
   "execution_count": 31,
   "id": "3d76429b-9ecb-475f-82df-02dc2961808e",
   "metadata": {},
   "outputs": [
    {
     "data": {
      "text/html": [
       "<div>\n",
       "<style scoped>\n",
       "    .dataframe tbody tr th:only-of-type {\n",
       "        vertical-align: middle;\n",
       "    }\n",
       "\n",
       "    .dataframe tbody tr th {\n",
       "        vertical-align: top;\n",
       "    }\n",
       "\n",
       "    .dataframe thead th {\n",
       "        text-align: right;\n",
       "    }\n",
       "</style>\n",
       "<table border=\"1\" class=\"dataframe\">\n",
       "  <thead>\n",
       "    <tr style=\"text-align: right;\">\n",
       "      <th></th>\n",
       "      <th>Team</th>\n",
       "      <th>W</th>\n",
       "      <th>D</th>\n",
       "    </tr>\n",
       "  </thead>\n",
       "  <tbody>\n",
       "    <tr>\n",
       "      <th>11</th>\n",
       "      <td>Chelsea</td>\n",
       "      <td>11</td>\n",
       "      <td>11</td>\n",
       "    </tr>\n",
       "  </tbody>\n",
       "</table>\n",
       "</div>"
      ],
      "text/plain": [
       "       Team   W   D\n",
       "11  Chelsea  11  11"
      ]
     },
     "execution_count": 31,
     "metadata": {},
     "output_type": "execute_result"
    }
   ],
   "source": [
    "df[df['D'] == df['W']][['Team', 'W', 'D']]"
   ]
  },
  {
   "cell_type": "code",
   "execution_count": 32,
   "id": "0548f5d1-c517-46b4-9986-93f90438fef1",
   "metadata": {},
   "outputs": [],
   "source": [
    "# Of the teams with goals conceded (GA) greater than 65, only show those that are not relegated."
   ]
  },
  {
   "cell_type": "code",
   "execution_count": 40,
   "id": "d002085a-fdbb-4c47-b8f6-510f938a522a",
   "metadata": {},
   "outputs": [
    {
     "data": {
      "text/html": [
       "<div>\n",
       "<style scoped>\n",
       "    .dataframe tbody tr th:only-of-type {\n",
       "        vertical-align: middle;\n",
       "    }\n",
       "\n",
       "    .dataframe tbody tr th {\n",
       "        vertical-align: top;\n",
       "    }\n",
       "\n",
       "    .dataframe thead th {\n",
       "        text-align: right;\n",
       "    }\n",
       "</style>\n",
       "<table border=\"1\" class=\"dataframe\">\n",
       "  <thead>\n",
       "    <tr style=\"text-align: right;\">\n",
       "      <th></th>\n",
       "      <th>Team</th>\n",
       "      <th>GA</th>\n",
       "      <th>Qualification or relegation</th>\n",
       "    </tr>\n",
       "  </thead>\n",
       "  <tbody>\n",
       "    <tr>\n",
       "      <th>17</th>\n",
       "      <td>Leicester City (R)</td>\n",
       "      <td>68</td>\n",
       "      <td>Relegation to EFL Championship</td>\n",
       "    </tr>\n",
       "    <tr>\n",
       "      <th>18</th>\n",
       "      <td>Leeds United (R)</td>\n",
       "      <td>78</td>\n",
       "      <td>Relegation to EFL Championship</td>\n",
       "    </tr>\n",
       "    <tr>\n",
       "      <th>19</th>\n",
       "      <td>Southampton (R)</td>\n",
       "      <td>73</td>\n",
       "      <td>Relegation to EFL Championship</td>\n",
       "    </tr>\n",
       "  </tbody>\n",
       "</table>\n",
       "</div>"
      ],
      "text/plain": [
       "                  Team  GA     Qualification or relegation\n",
       "17  Leicester City (R)  68  Relegation to EFL Championship\n",
       "18    Leeds United (R)  78  Relegation to EFL Championship\n",
       "19     Southampton (R)  73  Relegation to EFL Championship"
      ]
     },
     "execution_count": 40,
     "metadata": {},
     "output_type": "execute_result"
    }
   ],
   "source": [
    "dfp = df[(df['GA'] > 65) & (df['Qualification or relegation'] =='Relegation to EFL Championship')]\n",
    "dfp[['Team', 'GA', 'Qualification or relegation']]"
   ]
  },
  {
   "cell_type": "code",
   "execution_count": 39,
   "id": "fb037f8c-72ec-4585-859b-42d11e7170d5",
   "metadata": {},
   "outputs": [],
   "source": [
    "# Filter teams whose names start with the letter B and calculate their average points (Pts)."
   ]
  },
  {
   "cell_type": "code",
   "execution_count": 45,
   "id": "a93a5300-6b6c-4215-85a4-d2430ee43ce8",
   "metadata": {},
   "outputs": [
    {
     "data": {
      "text/plain": [
       "53.333333333333336"
      ]
     },
     "execution_count": 45,
     "metadata": {},
     "output_type": "execute_result"
    }
   ],
   "source": [
    "df[df['Team'].str.startswith('B')]['Pts'].mean()"
   ]
  },
  {
   "cell_type": "code",
   "execution_count": 46,
   "id": "f1980fe2-8e5e-4559-8a89-b57c762c6a1c",
   "metadata": {},
   "outputs": [],
   "source": [
    "# Those whose wins (W) are less than 10 but are not in the relegation group."
   ]
  },
  {
   "cell_type": "code",
   "execution_count": 49,
   "id": "ff5ec992-b894-43b1-9a94-5c585839aa57",
   "metadata": {},
   "outputs": [
    {
     "data": {
      "text/html": [
       "<div>\n",
       "<style scoped>\n",
       "    .dataframe tbody tr th:only-of-type {\n",
       "        vertical-align: middle;\n",
       "    }\n",
       "\n",
       "    .dataframe tbody tr th {\n",
       "        vertical-align: top;\n",
       "    }\n",
       "\n",
       "    .dataframe thead th {\n",
       "        text-align: right;\n",
       "    }\n",
       "</style>\n",
       "<table border=\"1\" class=\"dataframe\">\n",
       "  <thead>\n",
       "    <tr style=\"text-align: right;\">\n",
       "      <th></th>\n",
       "      <th>Pos</th>\n",
       "      <th>Team</th>\n",
       "      <th>Pld</th>\n",
       "      <th>W</th>\n",
       "      <th>D</th>\n",
       "      <th>L</th>\n",
       "      <th>GF</th>\n",
       "      <th>GA</th>\n",
       "      <th>GD</th>\n",
       "      <th>Pts</th>\n",
       "      <th>Qualification or relegation</th>\n",
       "    </tr>\n",
       "  </thead>\n",
       "  <tbody>\n",
       "    <tr>\n",
       "      <th>17</th>\n",
       "      <td>18</td>\n",
       "      <td>Leicester City (R)</td>\n",
       "      <td>38</td>\n",
       "      <td>9</td>\n",
       "      <td>7</td>\n",
       "      <td>22</td>\n",
       "      <td>51</td>\n",
       "      <td>68</td>\n",
       "      <td>-17</td>\n",
       "      <td>34</td>\n",
       "      <td>Relegation to EFL Championship</td>\n",
       "    </tr>\n",
       "    <tr>\n",
       "      <th>18</th>\n",
       "      <td>19</td>\n",
       "      <td>Leeds United (R)</td>\n",
       "      <td>38</td>\n",
       "      <td>7</td>\n",
       "      <td>10</td>\n",
       "      <td>21</td>\n",
       "      <td>48</td>\n",
       "      <td>78</td>\n",
       "      <td>-30</td>\n",
       "      <td>31</td>\n",
       "      <td>Relegation to EFL Championship</td>\n",
       "    </tr>\n",
       "    <tr>\n",
       "      <th>19</th>\n",
       "      <td>20</td>\n",
       "      <td>Southampton (R)</td>\n",
       "      <td>38</td>\n",
       "      <td>6</td>\n",
       "      <td>7</td>\n",
       "      <td>25</td>\n",
       "      <td>36</td>\n",
       "      <td>73</td>\n",
       "      <td>-37</td>\n",
       "      <td>25</td>\n",
       "      <td>Relegation to EFL Championship</td>\n",
       "    </tr>\n",
       "  </tbody>\n",
       "</table>\n",
       "</div>"
      ],
      "text/plain": [
       "    Pos                Team  Pld  W   D   L  GF  GA  GD  Pts  \\\n",
       "17   18  Leicester City (R)   38  9   7  22  51  68 -17   34   \n",
       "18   19    Leeds United (R)   38  7  10  21  48  78 -30   31   \n",
       "19   20     Southampton (R)   38  6   7  25  36  73 -37   25   \n",
       "\n",
       "       Qualification or relegation  \n",
       "17  Relegation to EFL Championship  \n",
       "18  Relegation to EFL Championship  \n",
       "19  Relegation to EFL Championship  "
      ]
     },
     "execution_count": 49,
     "metadata": {},
     "output_type": "execute_result"
    }
   ],
   "source": [
    "df[(df['W'] < 10) & (df['Qualification or relegation'] == 'Relegation to EFL Championship')]"
   ]
  },
  {
   "cell_type": "code",
   "execution_count": 50,
   "id": "8814bdb6-b195-4b1f-9d7a-ca7f37d0c84e",
   "metadata": {},
   "outputs": [],
   "source": [
    "# Which team has had the most draws (D)?"
   ]
  },
  {
   "cell_type": "code",
   "execution_count": 51,
   "id": "0fcb2ebb-606b-44ae-9689-684b1c30a1f9",
   "metadata": {},
   "outputs": [
    {
     "data": {
      "text/html": [
       "<div>\n",
       "<style scoped>\n",
       "    .dataframe tbody tr th:only-of-type {\n",
       "        vertical-align: middle;\n",
       "    }\n",
       "\n",
       "    .dataframe tbody tr th {\n",
       "        vertical-align: top;\n",
       "    }\n",
       "\n",
       "    .dataframe thead th {\n",
       "        text-align: right;\n",
       "    }\n",
       "</style>\n",
       "<table border=\"1\" class=\"dataframe\">\n",
       "  <thead>\n",
       "    <tr style=\"text-align: right;\">\n",
       "      <th></th>\n",
       "      <th>Team</th>\n",
       "      <th>D</th>\n",
       "    </tr>\n",
       "  </thead>\n",
       "  <tbody>\n",
       "    <tr>\n",
       "      <th>3</th>\n",
       "      <td>Newcastle United</td>\n",
       "      <td>14</td>\n",
       "    </tr>\n",
       "  </tbody>\n",
       "</table>\n",
       "</div>"
      ],
      "text/plain": [
       "               Team   D\n",
       "3  Newcastle United  14"
      ]
     },
     "execution_count": 51,
     "metadata": {},
     "output_type": "execute_result"
    }
   ],
   "source": [
    "df.sort_values(by= 'D', ascending= False).head(1)[['Team', 'D']]"
   ]
  },
  {
   "cell_type": "code",
   "execution_count": 60,
   "id": "c61100a7-2c0e-46f5-a683-35984ac3122f",
   "metadata": {},
   "outputs": [],
   "source": [
    "# Calculate the goals scored to wins ratio (i.e. GF/W) for Arsenal and Manchester City."
   ]
  },
  {
   "cell_type": "code",
   "execution_count": 59,
   "id": "ccab732f-2827-4ed5-841e-cb5093915ca5",
   "metadata": {},
   "outputs": [
    {
     "name": "stdout",
     "output_type": "stream",
     "text": [
      "Manchester City (C) W / GF  --> 3.357142857142857\n",
      "            Arsenal W / GF  --> 3.3846153846153846\n"
     ]
    }
   ],
   "source": [
    "dfp = df.copy()\n",
    "dfp = dfp.set_index('Team')\n",
    "MC = dfp.loc['Manchester City (C)']['GF'] / dfp.loc['Manchester City (C)']['W']\n",
    "ARC = dfp.loc['Arsenal']['GF'] / dfp.loc['Arsenal']['W']\n",
    "\n",
    "print(f'Manchester City (C) W / GF  --> {MC}')\n",
    "print(f'            Arsenal W / GF  --> {ARC}')"
   ]
  },
  {
   "cell_type": "code",
   "execution_count": null,
   "id": "4a3a11e5-423e-4c2e-974f-349d5b953ef1",
   "metadata": {},
   "outputs": [],
   "source": []
  }
 ],
 "metadata": {
  "kernelspec": {
   "display_name": "Python 3 (ipykernel)",
   "language": "python",
   "name": "python3"
  },
  "language_info": {
   "codemirror_mode": {
    "name": "ipython",
    "version": 3
   },
   "file_extension": ".py",
   "mimetype": "text/x-python",
   "name": "python",
   "nbconvert_exporter": "python",
   "pygments_lexer": "ipython3",
   "version": "3.12.9"
  }
 },
 "nbformat": 4,
 "nbformat_minor": 5
}
